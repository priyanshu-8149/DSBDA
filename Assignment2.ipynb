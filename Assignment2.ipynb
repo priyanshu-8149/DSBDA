{
 "cells": [
  {
   "cell_type": "code",
   "execution_count": 94,
   "id": "14742549-636e-44ed-bdd7-b8b547a09403",
   "metadata": {},
   "outputs": [],
   "source": [
    "import pandas as pd"
   ]
  },
  {
   "cell_type": "code",
   "execution_count": 95,
   "id": "d3e1617f-d08d-4834-b0bd-eb11948876a5",
   "metadata": {},
   "outputs": [],
   "source": [
    "df=pd.read_excel(\"Book1.xlsx\")\n",
    "# here we read the contain in the dataset "
   ]
  },
  {
   "cell_type": "code",
   "execution_count": 96,
   "id": "afbc5f84-8194-4f4f-b594-31f947c1e8cb",
   "metadata": {
    "scrolled": true
   },
   "outputs": [
    {
     "data": {
      "text/html": [
       "<div>\n",
       "<style scoped>\n",
       "    .dataframe tbody tr th:only-of-type {\n",
       "        vertical-align: middle;\n",
       "    }\n",
       "\n",
       "    .dataframe tbody tr th {\n",
       "        vertical-align: top;\n",
       "    }\n",
       "\n",
       "    .dataframe thead th {\n",
       "        text-align: right;\n",
       "    }\n",
       "</style>\n",
       "<table border=\"1\" class=\"dataframe\">\n",
       "  <thead>\n",
       "    <tr style=\"text-align: right;\">\n",
       "      <th></th>\n",
       "      <th>Rollno</th>\n",
       "      <th>Name</th>\n",
       "      <th>Marks</th>\n",
       "      <th>City</th>\n",
       "      <th>Gender</th>\n",
       "    </tr>\n",
       "  </thead>\n",
       "  <tbody>\n",
       "    <tr>\n",
       "      <th>0</th>\n",
       "      <td>1</td>\n",
       "      <td>Vaidehi</td>\n",
       "      <td>98.0</td>\n",
       "      <td>Nagpur</td>\n",
       "      <td>F</td>\n",
       "    </tr>\n",
       "    <tr>\n",
       "      <th>1</th>\n",
       "      <td>2</td>\n",
       "      <td>Swapnil</td>\n",
       "      <td>56.0</td>\n",
       "      <td>pune</td>\n",
       "      <td>M</td>\n",
       "    </tr>\n",
       "    <tr>\n",
       "      <th>2</th>\n",
       "      <td>3</td>\n",
       "      <td>Sonika</td>\n",
       "      <td>NaN</td>\n",
       "      <td>Thane</td>\n",
       "      <td>F</td>\n",
       "    </tr>\n",
       "    <tr>\n",
       "      <th>3</th>\n",
       "      <td>4</td>\n",
       "      <td>Rutwik</td>\n",
       "      <td>97.0</td>\n",
       "      <td>pune</td>\n",
       "      <td>M</td>\n",
       "    </tr>\n",
       "    <tr>\n",
       "      <th>4</th>\n",
       "      <td>5</td>\n",
       "      <td>Aditya</td>\n",
       "      <td>45.0</td>\n",
       "      <td>Khed</td>\n",
       "      <td>M</td>\n",
       "    </tr>\n",
       "  </tbody>\n",
       "</table>\n",
       "</div>"
      ],
      "text/plain": [
       "   Rollno      Name  Marks    City Gender\n",
       "0       1  Vaidehi    98.0  Nagpur      F\n",
       "1       2  Swapnil    56.0    pune      M\n",
       "2       3   Sonika     NaN   Thane      F\n",
       "3       4   Rutwik    97.0    pune      M\n",
       "4       5   Aditya    45.0    Khed      M"
      ]
     },
     "execution_count": 96,
     "metadata": {},
     "output_type": "execute_result"
    }
   ],
   "source": [
    "df.head()\n",
    "#here we check first 5 enteries in the dataset"
   ]
  },
  {
   "cell_type": "code",
   "execution_count": 97,
   "id": "02dd4eb9-7f31-4711-a113-bb22d4bbe69e",
   "metadata": {},
   "outputs": [],
   "source": [
    "#Fetch last 5 records"
   ]
  },
  {
   "cell_type": "code",
   "execution_count": 98,
   "id": "e6d25adb-094c-42f8-a76c-f22f360dcff0",
   "metadata": {},
   "outputs": [
    {
     "data": {
      "text/html": [
       "<div>\n",
       "<style scoped>\n",
       "    .dataframe tbody tr th:only-of-type {\n",
       "        vertical-align: middle;\n",
       "    }\n",
       "\n",
       "    .dataframe tbody tr th {\n",
       "        vertical-align: top;\n",
       "    }\n",
       "\n",
       "    .dataframe thead th {\n",
       "        text-align: right;\n",
       "    }\n",
       "</style>\n",
       "<table border=\"1\" class=\"dataframe\">\n",
       "  <thead>\n",
       "    <tr style=\"text-align: right;\">\n",
       "      <th></th>\n",
       "      <th>Rollno</th>\n",
       "      <th>Name</th>\n",
       "      <th>Marks</th>\n",
       "      <th>City</th>\n",
       "      <th>Gender</th>\n",
       "    </tr>\n",
       "  </thead>\n",
       "  <tbody>\n",
       "    <tr>\n",
       "      <th>25</th>\n",
       "      <td>26</td>\n",
       "      <td>Krutika</td>\n",
       "      <td>67.0</td>\n",
       "      <td>Buldhana</td>\n",
       "      <td>F</td>\n",
       "    </tr>\n",
       "    <tr>\n",
       "      <th>26</th>\n",
       "      <td>27</td>\n",
       "      <td>Anuj</td>\n",
       "      <td>NaN</td>\n",
       "      <td>Chikli</td>\n",
       "      <td>M</td>\n",
       "    </tr>\n",
       "    <tr>\n",
       "      <th>27</th>\n",
       "      <td>28</td>\n",
       "      <td>Karan</td>\n",
       "      <td>NaN</td>\n",
       "      <td>Mehekar</td>\n",
       "      <td>M</td>\n",
       "    </tr>\n",
       "    <tr>\n",
       "      <th>28</th>\n",
       "      <td>29</td>\n",
       "      <td>Vishal</td>\n",
       "      <td>100.0</td>\n",
       "      <td>Raigad</td>\n",
       "      <td>M</td>\n",
       "    </tr>\n",
       "    <tr>\n",
       "      <th>29</th>\n",
       "      <td>30</td>\n",
       "      <td>Siddhi</td>\n",
       "      <td>99.0</td>\n",
       "      <td>Rajgad</td>\n",
       "      <td>F</td>\n",
       "    </tr>\n",
       "  </tbody>\n",
       "</table>\n",
       "</div>"
      ],
      "text/plain": [
       "    Rollno     Name  Marks      City Gender\n",
       "25      26  Krutika   67.0  Buldhana      F\n",
       "26      27     Anuj    NaN    Chikli      M\n",
       "27      28    Karan    NaN   Mehekar      M\n",
       "28      29   Vishal  100.0    Raigad      M\n",
       "29      30   Siddhi   99.0    Rajgad      F"
      ]
     },
     "execution_count": 98,
     "metadata": {},
     "output_type": "execute_result"
    }
   ],
   "source": [
    "df.tail()\n",
    "#here we check last 5 enteries in the dataset"
   ]
  },
  {
   "cell_type": "code",
   "execution_count": 99,
   "id": "aff4838a-facd-47b8-958d-c698ef809d76",
   "metadata": {},
   "outputs": [
    {
     "data": {
      "text/plain": [
       "(30, 5)"
      ]
     },
     "execution_count": 99,
     "metadata": {},
     "output_type": "execute_result"
    }
   ],
   "source": [
    "df.shape"
   ]
  },
  {
   "cell_type": "code",
   "execution_count": 100,
   "id": "59907f99-7a96-49ab-9374-8432d4ebbd11",
   "metadata": {},
   "outputs": [
    {
     "ename": "TypeError",
     "evalue": "'Series' object is not callable",
     "output_type": "error",
     "traceback": [
      "\u001b[1;31m---------------------------------------------------------------------------\u001b[0m",
      "\u001b[1;31mTypeError\u001b[0m                                 Traceback (most recent call last)",
      "Cell \u001b[1;32mIn[100], line 1\u001b[0m\n\u001b[1;32m----> 1\u001b[0m \u001b[38;5;28mprint\u001b[39m(\u001b[38;5;124m\"\u001b[39m\u001b[38;5;124mno of rows in the dataset are\u001b[39m\u001b[38;5;124m\"\u001b[39m,df\u001b[38;5;241m.\u001b[39mshape[\u001b[38;5;241m0\u001b[39m],\u001b[38;5;124m\"\u001b[39m\u001b[38;5;124mno of column in the dataset are\u001b[39m\u001b[38;5;124m\"\u001b[39m,df\u001b[38;5;241m.\u001b[39mshape[\u001b[38;5;241m1\u001b[39m])\n",
      "\u001b[1;31mTypeError\u001b[0m: 'Series' object is not callable"
     ]
    }
   ],
   "source": [
    "print(\"no of rows in the dataset are\",df.shape[0],\"no of column in the dataset are\",df.shape[1])"
   ]
  },
  {
   "cell_type": "code",
   "execution_count": null,
   "id": "ba8958cd-6c00-4525-9707-22940e6d3db4",
   "metadata": {},
   "outputs": [],
   "source": [
    "#here we analyse the no of rows and columns in the dataset"
   ]
  },
  {
   "cell_type": "code",
   "execution_count": null,
   "id": "f4cc8cd7-016b-4b17-8ced-c0f413864e29",
   "metadata": {},
   "outputs": [],
   "source": [
    "df.info()"
   ]
  },
  {
   "cell_type": "code",
   "execution_count": null,
   "id": "59db4a0c-672c-4864-a1fe-7ad97dbe386d",
   "metadata": {},
   "outputs": [],
   "source": [
    "# here we analyze that there are total 23 columns in the dataset from which \n",
    "#2 columns has float as datatype,13 columns has int kind of datatype and 8 columns has object as datatype \n"
   ]
  },
  {
   "cell_type": "code",
   "execution_count": null,
   "id": "0fa779e6-aadc-4597-8cd2-6ed68adb3460",
   "metadata": {},
   "outputs": [],
   "source": [
    "df.describe()"
   ]
  },
  {
   "cell_type": "code",
   "execution_count": null,
   "id": "ff72e5ef-5f1e-46f1-8e0d-9ff53fa6f527",
   "metadata": {},
   "outputs": [],
   "source": [
    "# here we analyse  the mean,overall count min and max value"
   ]
  },
  {
   "cell_type": "code",
   "execution_count": null,
   "id": "593e7034-7bd5-4168-bcea-c147da25519c",
   "metadata": {},
   "outputs": [],
   "source": [
    "df.isnull"
   ]
  },
  {
   "cell_type": "code",
   "execution_count": null,
   "id": "f0422421-49ab-4c3d-8e7b-77af4969f441",
   "metadata": {
    "scrolled": true
   },
   "outputs": [],
   "source": [
    "df[\"Marks\"].isna()"
   ]
  },
  {
   "cell_type": "code",
   "execution_count": null,
   "id": "c973a099-0a04-4af8-849a-aa6842699268",
   "metadata": {},
   "outputs": [],
   "source": [
    "df[\"Marks\"].isna().sum()"
   ]
  },
  {
   "cell_type": "code",
   "execution_count": null,
   "id": "c5c9ae43-39cf-4246-923b-acaa06a4fa85",
   "metadata": {},
   "outputs": [],
   "source": [
    "import numpy as np\n",
    "#import numpy library for numerical analyzation\n"
   ]
  },
  {
   "cell_type": "code",
   "execution_count": null,
   "id": "759f7986-09e8-4765-85c9-c76c4a03b094",
   "metadata": {},
   "outputs": [],
   "source": [
    "# calculate the mean \n",
    "mean_att=df['Marks'].mean()"
   ]
  },
  {
   "cell_type": "code",
   "execution_count": null,
   "id": "8ab80024-a600-4e5e-84de-be9cdf74c3e4",
   "metadata": {},
   "outputs": [],
   "source": [
    "df.columns"
   ]
  },
  {
   "cell_type": "code",
   "execution_count": null,
   "id": "1f8bcbe9-bba2-4594-a12d-6674dbccce3e",
   "metadata": {},
   "outputs": [],
   "source": [
    "# print the mean\n",
    "print(mean_att)"
   ]
  },
  {
   "cell_type": "code",
   "execution_count": null,
   "id": "0006dba8-43e8-40d8-b130-0bcd07e4c288",
   "metadata": {},
   "outputs": [],
   "source": [
    "# calculate the mode \n",
    "mode=df['Marks'].mode()"
   ]
  },
  {
   "cell_type": "code",
   "execution_count": null,
   "id": "0afa3db5-69a0-4243-8724-af47551a77b4",
   "metadata": {},
   "outputs": [],
   "source": [
    "df.columns"
   ]
  },
  {
   "cell_type": "code",
   "execution_count": null,
   "id": "6773775c-62a2-49d4-8742-c8676511dfc9",
   "metadata": {},
   "outputs": [],
   "source": [
    "# print the mode\n",
    "print(mode)"
   ]
  },
  {
   "cell_type": "code",
   "execution_count": null,
   "id": "728609d0-1957-4952-94a0-eeaa9b594b52",
   "metadata": {},
   "outputs": [],
   "source": [
    "# claculate the median\n",
    "median_att=df['Marks'].median()"
   ]
  },
  {
   "cell_type": "code",
   "execution_count": null,
   "id": "530bc266-772a-4fe0-8090-1e13d691f6a6",
   "metadata": {},
   "outputs": [],
   "source": [
    "df.columns"
   ]
  },
  {
   "cell_type": "code",
   "execution_count": null,
   "id": "acabf21f-c328-4dfe-890a-18b767eb9b15",
   "metadata": {},
   "outputs": [],
   "source": [
    "# print median\n",
    "print(median_att)"
   ]
  },
  {
   "cell_type": "code",
   "execution_count": null,
   "id": "7af44cbd-8302-4b52-8aff-e8818c698623",
   "metadata": {},
   "outputs": [],
   "source": [
    "# calculate the variance\n",
    "var=df['Marks'].var()"
   ]
  },
  {
   "cell_type": "code",
   "execution_count": null,
   "id": "3118b540-f9a2-4457-ae65-8a5c192e30ab",
   "metadata": {},
   "outputs": [],
   "source": [
    "df.columns"
   ]
  },
  {
   "cell_type": "code",
   "execution_count": null,
   "id": "51c5fb00-9c08-4bda-97b7-c7091a7755c3",
   "metadata": {},
   "outputs": [],
   "source": [
    "# print the variance\n",
    "print(var)"
   ]
  },
  {
   "cell_type": "code",
   "execution_count": null,
   "id": "1ebfd18c-366e-4353-b5e3-23f4859161a5",
   "metadata": {},
   "outputs": [],
   "source": [
    "# calculate the standard deviation\n",
    "std=df['Marks'].std()"
   ]
  },
  {
   "cell_type": "code",
   "execution_count": null,
   "id": "93d53ab0-52a1-4806-a5ee-cdc40398f1ea",
   "metadata": {},
   "outputs": [],
   "source": [
    "df.columns"
   ]
  },
  {
   "cell_type": "code",
   "execution_count": null,
   "id": "3671d8f3-a551-482b-a1e0-bfd4103de9d6",
   "metadata": {},
   "outputs": [],
   "source": [
    "#print the standard deviation\n",
    "print(std)"
   ]
  },
  {
   "cell_type": "code",
   "execution_count": null,
   "id": "75da7d64-7bcf-41ef-b242-8050f2771737",
   "metadata": {},
   "outputs": [],
   "source": [
    "df.isnull().sum()"
   ]
  },
  {
   "cell_type": "code",
   "execution_count": null,
   "id": "66120cb6-2195-4c9e-9118-c011321c8487",
   "metadata": {},
   "outputs": [],
   "source": [
    "df2=df.copy()\n",
    "              "
   ]
  },
  {
   "cell_type": "code",
   "execution_count": 101,
   "id": "e3280309-f7c9-4f3f-ac86-6d49aeaf06c6",
   "metadata": {},
   "outputs": [],
   "source": [
    "for col in df.columns:\n",
    "    if col in df2.columns:\n",
    "        if df2[col].isnull().any() and pd.api.types.is_numeric_dtype(df2[col]):\n",
    "            df2[col] = df2[col].fillna(value = df2[col].mean())\n",
    "    \n",
    "    "
   ]
  },
  {
   "cell_type": "code",
   "execution_count": 103,
   "id": "ab29c23b-ad65-4a18-acda-e624f2966ed8",
   "metadata": {},
   "outputs": [
    {
     "data": {
      "text/plain": [
       "Rollno    0\n",
       "Name      0\n",
       "Marks     0\n",
       "City      4\n",
       "Gender    0\n",
       "dtype: int64"
      ]
     },
     "execution_count": 103,
     "metadata": {},
     "output_type": "execute_result"
    }
   ],
   "source": [
    "df2.isnull().sum()"
   ]
  },
  {
   "cell_type": "markdown",
   "id": "e5c4150f-c4bb-49a9-890c-de266b27c1cf",
   "metadata": {},
   "source": []
  },
  {
   "cell_type": "code",
   "execution_count": null,
   "id": "4147624f-f917-4c36-a840-42f567da625e",
   "metadata": {},
   "outputs": [],
   "source": []
  },
  {
   "cell_type": "code",
   "execution_count": null,
   "id": "64984b31-f1bd-42f3-8e1c-4e56048ef786",
   "metadata": {},
   "outputs": [],
   "source": []
  }
 ],
 "metadata": {
  "kernelspec": {
   "display_name": "Python 3 (ipykernel)",
   "language": "python",
   "name": "python3"
  },
  "language_info": {
   "codemirror_mode": {
    "name": "ipython",
    "version": 3
   },
   "file_extension": ".py",
   "mimetype": "text/x-python",
   "name": "python",
   "nbconvert_exporter": "python",
   "pygments_lexer": "ipython3",
   "version": "3.12.7"
  }
 },
 "nbformat": 4,
 "nbformat_minor": 5
}
