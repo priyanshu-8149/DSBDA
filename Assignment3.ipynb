{
 "cells": [
  {
   "cell_type": "markdown",
   "id": "707049db-da22-473d-9e7c-92bcb47f5a89",
   "metadata": {},
   "source": [
    "# \tHow can we load the dataset from a CSV file into a Pandas DataFrame?"
   ]
  },
  {
   "cell_type": "code",
   "execution_count": 45,
   "id": "8c217fd3-1519-4b85-8fa1-36b938119c0b",
   "metadata": {},
   "outputs": [],
   "source": [
    "import pandas as pd\n"
   ]
  },
  {
   "cell_type": "code",
   "execution_count": 46,
   "id": "729cee36-2b2a-4a42-ae2f-1001080dbbbf",
   "metadata": {},
   "outputs": [],
   "source": [
    "df=pd.read_csv(\"employee_dataset.csv\")\n"
   ]
  },
  {
   "cell_type": "markdown",
   "id": "e1d50de5-f587-4bd7-b216-e282f2682c0a",
   "metadata": {},
   "source": [
    "# \tWhat is the dimension (number of rows and columns) of the dataset? What are the data types of the variables?"
   ]
  },
  {
   "cell_type": "code",
   "execution_count": 47,
   "id": "acc29474-3f97-45da-adde-f6d370850062",
   "metadata": {},
   "outputs": [
    {
     "data": {
      "text/plain": [
       "(100, 10)"
      ]
     },
     "execution_count": 47,
     "metadata": {},
     "output_type": "execute_result"
    }
   ],
   "source": [
    "df.shape"
   ]
  },
  {
   "cell_type": "code",
   "execution_count": 48,
   "id": "597a5199-3f8e-4cf5-b0c6-14091e895f0f",
   "metadata": {},
   "outputs": [
    {
     "name": "stdout",
     "output_type": "stream",
     "text": [
      "<class 'pandas.core.frame.DataFrame'>\n",
      "RangeIndex: 100 entries, 0 to 99\n",
      "Data columns (total 10 columns):\n",
      " #   Column               Non-Null Count  Dtype  \n",
      "---  ------               --------------  -----  \n",
      " 0   Employee ID          100 non-null    int64  \n",
      " 1   First Name           100 non-null    object \n",
      " 2   Last Name            100 non-null    object \n",
      " 3   Date of Birth        100 non-null    object \n",
      " 4   Job Title            100 non-null    object \n",
      " 5   Salary               100 non-null    float64\n",
      " 6   Years of Experience  100 non-null    int64  \n",
      " 7   Email                100 non-null    object \n",
      " 8   Phone Number         100 non-null    object \n",
      " 9   Address              100 non-null    object \n",
      "dtypes: float64(1), int64(2), object(7)\n",
      "memory usage: 7.9+ KB\n"
     ]
    }
   ],
   "source": [
    "df.info()"
   ]
  },
  {
   "cell_type": "markdown",
   "id": "3bf77986-890c-488c-ab6d-4c489014673d",
   "metadata": {},
   "source": [
    "# \tHow can we identify missing values in the dataset and summarize it using describe()?"
   ]
  },
  {
   "cell_type": "code",
   "execution_count": 49,
   "id": "45e777ff-7670-4afe-b2a6-90d19b02c6bc",
   "metadata": {},
   "outputs": [
    {
     "data": {
      "text/html": [
       "<div>\n",
       "<style scoped>\n",
       "    .dataframe tbody tr th:only-of-type {\n",
       "        vertical-align: middle;\n",
       "    }\n",
       "\n",
       "    .dataframe tbody tr th {\n",
       "        vertical-align: top;\n",
       "    }\n",
       "\n",
       "    .dataframe thead th {\n",
       "        text-align: right;\n",
       "    }\n",
       "</style>\n",
       "<table border=\"1\" class=\"dataframe\">\n",
       "  <thead>\n",
       "    <tr style=\"text-align: right;\">\n",
       "      <th></th>\n",
       "      <th>Employee ID</th>\n",
       "      <th>First Name</th>\n",
       "      <th>Last Name</th>\n",
       "      <th>Date of Birth</th>\n",
       "      <th>Job Title</th>\n",
       "      <th>Salary</th>\n",
       "      <th>Years of Experience</th>\n",
       "      <th>Email</th>\n",
       "      <th>Phone Number</th>\n",
       "      <th>Address</th>\n",
       "    </tr>\n",
       "  </thead>\n",
       "  <tbody>\n",
       "    <tr>\n",
       "      <th>0</th>\n",
       "      <td>False</td>\n",
       "      <td>False</td>\n",
       "      <td>False</td>\n",
       "      <td>False</td>\n",
       "      <td>False</td>\n",
       "      <td>False</td>\n",
       "      <td>False</td>\n",
       "      <td>False</td>\n",
       "      <td>False</td>\n",
       "      <td>False</td>\n",
       "    </tr>\n",
       "    <tr>\n",
       "      <th>1</th>\n",
       "      <td>False</td>\n",
       "      <td>False</td>\n",
       "      <td>False</td>\n",
       "      <td>False</td>\n",
       "      <td>False</td>\n",
       "      <td>False</td>\n",
       "      <td>False</td>\n",
       "      <td>False</td>\n",
       "      <td>False</td>\n",
       "      <td>False</td>\n",
       "    </tr>\n",
       "    <tr>\n",
       "      <th>2</th>\n",
       "      <td>False</td>\n",
       "      <td>False</td>\n",
       "      <td>False</td>\n",
       "      <td>False</td>\n",
       "      <td>False</td>\n",
       "      <td>False</td>\n",
       "      <td>False</td>\n",
       "      <td>False</td>\n",
       "      <td>False</td>\n",
       "      <td>False</td>\n",
       "    </tr>\n",
       "    <tr>\n",
       "      <th>3</th>\n",
       "      <td>False</td>\n",
       "      <td>False</td>\n",
       "      <td>False</td>\n",
       "      <td>False</td>\n",
       "      <td>False</td>\n",
       "      <td>False</td>\n",
       "      <td>False</td>\n",
       "      <td>False</td>\n",
       "      <td>False</td>\n",
       "      <td>False</td>\n",
       "    </tr>\n",
       "    <tr>\n",
       "      <th>4</th>\n",
       "      <td>False</td>\n",
       "      <td>False</td>\n",
       "      <td>False</td>\n",
       "      <td>False</td>\n",
       "      <td>False</td>\n",
       "      <td>False</td>\n",
       "      <td>False</td>\n",
       "      <td>False</td>\n",
       "      <td>False</td>\n",
       "      <td>False</td>\n",
       "    </tr>\n",
       "    <tr>\n",
       "      <th>...</th>\n",
       "      <td>...</td>\n",
       "      <td>...</td>\n",
       "      <td>...</td>\n",
       "      <td>...</td>\n",
       "      <td>...</td>\n",
       "      <td>...</td>\n",
       "      <td>...</td>\n",
       "      <td>...</td>\n",
       "      <td>...</td>\n",
       "      <td>...</td>\n",
       "    </tr>\n",
       "    <tr>\n",
       "      <th>95</th>\n",
       "      <td>False</td>\n",
       "      <td>False</td>\n",
       "      <td>False</td>\n",
       "      <td>False</td>\n",
       "      <td>False</td>\n",
       "      <td>False</td>\n",
       "      <td>False</td>\n",
       "      <td>False</td>\n",
       "      <td>False</td>\n",
       "      <td>False</td>\n",
       "    </tr>\n",
       "    <tr>\n",
       "      <th>96</th>\n",
       "      <td>False</td>\n",
       "      <td>False</td>\n",
       "      <td>False</td>\n",
       "      <td>False</td>\n",
       "      <td>False</td>\n",
       "      <td>False</td>\n",
       "      <td>False</td>\n",
       "      <td>False</td>\n",
       "      <td>False</td>\n",
       "      <td>False</td>\n",
       "    </tr>\n",
       "    <tr>\n",
       "      <th>97</th>\n",
       "      <td>False</td>\n",
       "      <td>False</td>\n",
       "      <td>False</td>\n",
       "      <td>False</td>\n",
       "      <td>False</td>\n",
       "      <td>False</td>\n",
       "      <td>False</td>\n",
       "      <td>False</td>\n",
       "      <td>False</td>\n",
       "      <td>False</td>\n",
       "    </tr>\n",
       "    <tr>\n",
       "      <th>98</th>\n",
       "      <td>False</td>\n",
       "      <td>False</td>\n",
       "      <td>False</td>\n",
       "      <td>False</td>\n",
       "      <td>False</td>\n",
       "      <td>False</td>\n",
       "      <td>False</td>\n",
       "      <td>False</td>\n",
       "      <td>False</td>\n",
       "      <td>False</td>\n",
       "    </tr>\n",
       "    <tr>\n",
       "      <th>99</th>\n",
       "      <td>False</td>\n",
       "      <td>False</td>\n",
       "      <td>False</td>\n",
       "      <td>False</td>\n",
       "      <td>False</td>\n",
       "      <td>False</td>\n",
       "      <td>False</td>\n",
       "      <td>False</td>\n",
       "      <td>False</td>\n",
       "      <td>False</td>\n",
       "    </tr>\n",
       "  </tbody>\n",
       "</table>\n",
       "<p>100 rows × 10 columns</p>\n",
       "</div>"
      ],
      "text/plain": [
       "    Employee ID  First Name  Last Name  Date of Birth  Job Title  Salary  \\\n",
       "0         False       False      False          False      False   False   \n",
       "1         False       False      False          False      False   False   \n",
       "2         False       False      False          False      False   False   \n",
       "3         False       False      False          False      False   False   \n",
       "4         False       False      False          False      False   False   \n",
       "..          ...         ...        ...            ...        ...     ...   \n",
       "95        False       False      False          False      False   False   \n",
       "96        False       False      False          False      False   False   \n",
       "97        False       False      False          False      False   False   \n",
       "98        False       False      False          False      False   False   \n",
       "99        False       False      False          False      False   False   \n",
       "\n",
       "    Years of Experience  Email  Phone Number  Address  \n",
       "0                 False  False         False    False  \n",
       "1                 False  False         False    False  \n",
       "2                 False  False         False    False  \n",
       "3                 False  False         False    False  \n",
       "4                 False  False         False    False  \n",
       "..                  ...    ...           ...      ...  \n",
       "95                False  False         False    False  \n",
       "96                False  False         False    False  \n",
       "97                False  False         False    False  \n",
       "98                False  False         False    False  \n",
       "99                False  False         False    False  \n",
       "\n",
       "[100 rows x 10 columns]"
      ]
     },
     "execution_count": 49,
     "metadata": {},
     "output_type": "execute_result"
    }
   ],
   "source": [
    "df.isna()"
   ]
  },
  {
   "cell_type": "code",
   "execution_count": 50,
   "id": "a345c042-96d5-4f09-b6e1-3f4e7de65d9a",
   "metadata": {},
   "outputs": [
    {
     "data": {
      "text/html": [
       "<div>\n",
       "<style scoped>\n",
       "    .dataframe tbody tr th:only-of-type {\n",
       "        vertical-align: middle;\n",
       "    }\n",
       "\n",
       "    .dataframe tbody tr th {\n",
       "        vertical-align: top;\n",
       "    }\n",
       "\n",
       "    .dataframe thead th {\n",
       "        text-align: right;\n",
       "    }\n",
       "</style>\n",
       "<table border=\"1\" class=\"dataframe\">\n",
       "  <thead>\n",
       "    <tr style=\"text-align: right;\">\n",
       "      <th></th>\n",
       "      <th>Employee ID</th>\n",
       "      <th>Salary</th>\n",
       "      <th>Years of Experience</th>\n",
       "    </tr>\n",
       "  </thead>\n",
       "  <tbody>\n",
       "    <tr>\n",
       "      <th>count</th>\n",
       "      <td>100.000000</td>\n",
       "      <td>100.00000</td>\n",
       "      <td>100.000000</td>\n",
       "    </tr>\n",
       "    <tr>\n",
       "      <th>mean</th>\n",
       "      <td>5417.180000</td>\n",
       "      <td>72181.11240</td>\n",
       "      <td>10.730000</td>\n",
       "    </tr>\n",
       "    <tr>\n",
       "      <th>std</th>\n",
       "      <td>2497.933216</td>\n",
       "      <td>23863.99174</td>\n",
       "      <td>7.937706</td>\n",
       "    </tr>\n",
       "    <tr>\n",
       "      <th>min</th>\n",
       "      <td>1049.000000</td>\n",
       "      <td>31401.26000</td>\n",
       "      <td>0.000000</td>\n",
       "    </tr>\n",
       "    <tr>\n",
       "      <th>25%</th>\n",
       "      <td>3333.500000</td>\n",
       "      <td>51791.82000</td>\n",
       "      <td>5.000000</td>\n",
       "    </tr>\n",
       "    <tr>\n",
       "      <th>50%</th>\n",
       "      <td>5021.000000</td>\n",
       "      <td>73168.52000</td>\n",
       "      <td>9.000000</td>\n",
       "    </tr>\n",
       "    <tr>\n",
       "      <th>75%</th>\n",
       "      <td>7526.000000</td>\n",
       "      <td>90129.34000</td>\n",
       "      <td>15.000000</td>\n",
       "    </tr>\n",
       "    <tr>\n",
       "      <th>max</th>\n",
       "      <td>9958.000000</td>\n",
       "      <td>119885.40000</td>\n",
       "      <td>36.000000</td>\n",
       "    </tr>\n",
       "  </tbody>\n",
       "</table>\n",
       "</div>"
      ],
      "text/plain": [
       "       Employee ID        Salary  Years of Experience\n",
       "count   100.000000     100.00000           100.000000\n",
       "mean   5417.180000   72181.11240            10.730000\n",
       "std    2497.933216   23863.99174             7.937706\n",
       "min    1049.000000   31401.26000             0.000000\n",
       "25%    3333.500000   51791.82000             5.000000\n",
       "50%    5021.000000   73168.52000             9.000000\n",
       "75%    7526.000000   90129.34000            15.000000\n",
       "max    9958.000000  119885.40000            36.000000"
      ]
     },
     "execution_count": 50,
     "metadata": {},
     "output_type": "execute_result"
    }
   ],
   "source": [
    "df.describe()"
   ]
  },
  {
   "cell_type": "markdown",
   "id": "ce8d7132-27d4-42d6-96b5-5fe5f8a5fb6a",
   "metadata": {},
   "source": [
    "# Are there any missing values in the dataset? How can we handle them using Pandas?"
   ]
  },
  {
   "cell_type": "code",
   "execution_count": 51,
   "id": "c32180a5-59ec-4f09-ba4e-5a725e9e0784",
   "metadata": {},
   "outputs": [],
   "source": [
    "#null values are not present in the given dataset . \n",
    "#we can fill the  null values usinf fillna() either by using forward or backward fill"
   ]
  },
  {
   "cell_type": "markdown",
   "id": "db3c458d-ef18-40e9-911c-a2927bafa228",
   "metadata": {},
   "source": [
    "# \tAre there duplicate employee records, and how can we remove them?"
   ]
  },
  {
   "cell_type": "code",
   "execution_count": 52,
   "id": "bf6c0d0b-5f6a-42f6-9371-0fe288eacb3a",
   "metadata": {},
   "outputs": [],
   "source": [
    "duplicates = df.duplicated().sum()\n",
    "\n",
    "\n"
   ]
  },
  {
   "cell_type": "code",
   "execution_count": 53,
   "id": "d28abd7e-6b48-45c8-8efb-7320067a9ef3",
   "metadata": {},
   "outputs": [
    {
     "name": "stdout",
     "output_type": "stream",
     "text": [
      "0\n"
     ]
    }
   ],
   "source": [
    "print (duplicates)"
   ]
  },
  {
   "cell_type": "code",
   "execution_count": 54,
   "id": "cdfe5854-3600-49eb-b71c-54467ce8cd35",
   "metadata": {},
   "outputs": [],
   "source": [
    "df.drop_duplicates(inplace=True)"
   ]
  },
  {
   "cell_type": "code",
   "execution_count": 55,
   "id": "11af36fd-73a7-45e5-97dc-5a2b8db22fa8",
   "metadata": {},
   "outputs": [],
   "source": [
    "duplicates = df.duplicated().sum()"
   ]
  },
  {
   "cell_type": "code",
   "execution_count": 56,
   "id": "b4e4bdda-194f-44a6-b085-75d15d6d66af",
   "metadata": {},
   "outputs": [
    {
     "name": "stdout",
     "output_type": "stream",
     "text": [
      "0\n"
     ]
    }
   ],
   "source": [
    "print (duplicates)"
   ]
  },
  {
   "cell_type": "code",
   "execution_count": 57,
   "id": "10949510-ff57-43b2-a0ab-f2716c369e68",
   "metadata": {},
   "outputs": [],
   "source": [
    "import seaborn as sns\n",
    "import matplotlib.pyplot as plt"
   ]
  },
  {
   "cell_type": "code",
   "execution_count": 58,
   "id": "aeb19553-1b28-4d27-b574-9e3af9779133",
   "metadata": {},
   "outputs": [
    {
     "data": {
      "text/plain": [
       "Index(['Employee ID', 'First Name', 'Last Name', 'Date of Birth', 'Job Title',\n",
       "       'Salary', 'Years of Experience', 'Email', 'Phone Number', 'Address'],\n",
       "      dtype='object')"
      ]
     },
     "execution_count": 58,
     "metadata": {},
     "output_type": "execute_result"
    }
   ],
   "source": [
    "df.columns"
   ]
  },
  {
   "cell_type": "code",
   "execution_count": 60,
   "id": "69901c39-bc44-45d2-be38-69b930cce685",
   "metadata": {},
   "outputs": [
    {
     "data": {
      "image/png": "[encoded data removed]",
      "text/plain": [
       "<Figure size 640x480 with 1 Axes>"
      ]
     },
     "metadata": {},
     "output_type": "display_data"
    }
   ],
   "source": [
    "sns.boxplot(x=df['Salary'])\n",
    "plt.show()"
   ]
  },
  {
   "cell_type": "markdown",
   "id": "996a24eb-1bdd-44e4-88ff-fdcb5d7a53e9",
   "metadata": {},
   "source": [
    "# \tHow can we convert incorrect data types (e.g., date columns to datetime, categorical columns to category)"
   ]
  },
  {
   "cell_type": "code",
   "execution_count": null,
   "id": "1b87aa2d-6c5a-4d74-82ba-cfe62a808e05",
   "metadata": {},
   "outputs": [],
   "source": [
    "from sklearn .preprocessing import MinMaxScaler"
   ]
  },
  {
   "cell_type": "code",
   "execution_count": 62,
   "id": "d6590a87-dfb5-4671-8144-d474ea5e2f25",
   "metadata": {},
   "outputs": [],
   "source": [
    "df[\"Date of Birth\"]=pd.to_datetime(df[\"Date of Birth\"],format='%Y',errors='coerce')\n",
    "                                   "
   ]
  },
  {
   "cell_type": "code",
   "execution_count": 63,
   "id": "b511bb83-41d5-4fda-847e-a3d7e5a5fd3e",
   "metadata": {},
   "outputs": [],
   "source": [
    "df['Job Title']=df ['Job Title'].astype('category')"
   ]
  },
  {
   "cell_type": "code",
   "execution_count": null,
   "id": "2e3266ad-d27e-45da-ae5f-b7f1c644cc73",
   "metadata": {},
   "outputs": [],
   "source": []
  }
 ],
 "metadata": {
  "kernelspec": {
   "display_name": "Python 3 (ipykernel)",
   "language": "python",
   "name": "python3"
  },
  "language_info": {
   "codemirror_mode": {
    "name": "ipython",
    "version": 3
   },
   "file_extension": ".py",
   "mimetype": "text/x-python",
   "name": "python",
   "nbconvert_exporter": "python",
   "pygments_lexer": "ipython3",
   "version": "3.12.7"
  }
 },
 "nbformat": 4,
 "nbformat_minor": 5
}
